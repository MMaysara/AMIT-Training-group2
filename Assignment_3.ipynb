{
 "cells": [
  {
   "cell_type": "markdown",
   "metadata": {},
   "source": [
    "# Assignment 3"
   ]
  },
  {
   "cell_type": "markdown",
   "metadata": {},
   "source": [
    "### Write a function to count the number 4 in a given list."
   ]
  },
  {
   "cell_type": "code",
   "execution_count": 1,
   "metadata": {},
   "outputs": [
    {
     "name": "stdout",
     "output_type": "stream",
     "text": [
      "[1, 2, 3, 4]\n"
     ]
    }
   ],
   "source": [
    "l1=[1,2,3]\n",
    "def count(x):\n",
    "    l1.append(x)\n",
    "    return l1\n",
    "print(count(4))\n",
    "\n",
    "    "
   ]
  },
  {
   "cell_type": "markdown",
   "metadata": {},
   "source": [
    "### write a  function to check whether a number is divisible by another number."
   ]
  },
  {
   "cell_type": "code",
   "execution_count": 3,
   "metadata": {},
   "outputs": [
    {
     "name": "stdout",
     "output_type": "stream",
     "text": [
      "enter your Dividend 4\n",
      "enter your Divisor 4\n",
      "divisible\n"
     ]
    }
   ],
   "source": [
    "def dev(x,y):\n",
    "    if x%y==0:\n",
    "        print('divisible')\n",
    "    else:\n",
    "        print('indivisible')\n",
    "dev(int(input('enter your Dividend ')),int(input('enter your Divisor ')))"
   ]
  },
  {
   "cell_type": "markdown",
   "metadata": {},
   "source": [
    "### write a function to find the maximum and minimum numbers from a sequence of numbers."
   ]
  },
  {
   "cell_type": "code",
   "execution_count": 4,
   "metadata": {},
   "outputs": [
    {
     "name": "stdout",
     "output_type": "stream",
     "text": [
      "enter your numbers seperated by spaces1 4 4 7 9 2 3\n",
      "please enter the NO of numbers you have entered7\n"
     ]
    },
    {
     "data": {
      "text/plain": [
       "9"
      ]
     },
     "execution_count": 4,
     "metadata": {},
     "output_type": "execute_result"
    }
   ],
   "source": [
    "l1=input('enter your numbers seperated by spaces').split()\n",
    "y= int(input('please enter the NO of numbers you have entered'))\n",
    "for i in range(y):\n",
    "    l1[i]=int(l1[i])\n",
    "def max1(x):\n",
    "    M=0\n",
    "    for i in l1:\n",
    "        if M<i:\n",
    "            M=i\n",
    "        else:\n",
    "            continue\n",
    "    return M\n",
    "\n",
    "max1(l1)"
   ]
  },
  {
   "cell_type": "markdown",
   "metadata": {},
   "source": [
    "## Write a Python function that takes two lists and returns True if they have at least one common member."
   ]
  },
  {
   "cell_type": "code",
   "execution_count": 1,
   "metadata": {},
   "outputs": [
    {
     "name": "stdout",
     "output_type": "stream",
     "text": [
      "enter your string seperated by spaces a s d\n",
      "enter your string seperated by spaces d s f\n",
      "true\n"
     ]
    }
   ],
   "source": [
    "def com(x,y):\n",
    "    m=0\n",
    "    for i in x:\n",
    "        if m==0:\n",
    "            for j in y:\n",
    "                if i==j:\n",
    "                    print('true')\n",
    "                    m=1\n",
    "                    break\n",
    "                else:\n",
    "                    continue\n",
    "    if m==0:\n",
    "        print('false')\n",
    "l1=input('enter your string seperated by spaces ').split()\n",
    "l2=input('enter your string seperated by spaces ').split()\n",
    "com(l1,l2)"
   ]
  },
  {
   "cell_type": "markdown",
   "metadata": {},
   "source": [
    "### Write a Python function to calculate the factorial of a number (a non-negative integer). The function accepts the number from the user"
   ]
  },
  {
   "cell_type": "code",
   "execution_count": null,
   "metadata": {},
   "outputs": [
    {
     "name": "stdout",
     "output_type": "stream",
     "text": [
      "enter your num-1\n",
      "please enter positive num\n",
      "enter your num0\n",
      "please enter positive num\n"
     ]
    }
   ],
   "source": [
    "def fact(x):\n",
    "    if x==1:\n",
    "        return 1\n",
    "    else:\n",
    "        return x*fact(x-1)\n",
    "y=0\n",
    "m=0\n",
    "while y<=0:\n",
    "    global m\n",
    "    y= int(input('enter your num'))\n",
    "    if y>0:\n",
    "        m=1\n",
    "    else:\n",
    "        print('please enter positive num')\n",
    "print(fact(y))    \n"
   ]
  },
  {
   "cell_type": "markdown",
   "metadata": {},
   "source": [
    "### Write a Python function to check whether a number is in a given range.\n",
    "\n",
    "### The range is from 3 to 11\n"
   ]
  },
  {
   "cell_type": "code",
   "execution_count": 3,
   "metadata": {},
   "outputs": [
    {
     "name": "stdout",
     "output_type": "stream",
     "text": [
      "enter your guess3\n",
      "true\n"
     ]
    }
   ],
   "source": [
    "m=0\n",
    "def num(x):\n",
    "    global m\n",
    "    for i in range(3,12):\n",
    "        if x==i:\n",
    "            m=1\n",
    "            print('true')\n",
    "            break\n",
    "        else:\n",
    "            continue\n",
    "num(int(input('enter your guess')))\n",
    "if m==0:\n",
    "    print('false')\n"
   ]
  },
  {
   "cell_type": "markdown",
   "metadata": {},
   "source": [
    "### Write a  program to create the multiplication table (from 1 to 10) of a number."
   ]
  },
  {
   "cell_type": "code",
   "execution_count": 1,
   "metadata": {},
   "outputs": [
    {
     "name": "stdout",
     "output_type": "stream",
     "text": [
      "enter a num5\n",
      "1 * 5 = 5\n",
      "2 * 5 = 10\n",
      "3 * 5 = 15\n",
      "4 * 5 = 20\n",
      "5 * 5 = 25\n",
      "6 * 5 = 30\n",
      "7 * 5 = 35\n",
      "8 * 5 = 40\n",
      "9 * 5 = 45\n",
      "10 * 5 = 50\n"
     ]
    }
   ],
   "source": [
    "def mul(x):\n",
    "    for i in range(1,11):\n",
    "        print('{} * {} = {}'.format(i,x,(i*x)))\n",
    "mul(int(input('enter a num')))\n",
    "    "
   ]
  },
  {
   "cell_type": "markdown",
   "metadata": {},
   "source": [
    "#### LESSER OF TWO EVENS: Write a function that returns the lesser of two given numbers *if* both numbers are even, but returns the greater if one or both numbers are odd\n",
    "    lesser_of_two_evens(2,4) --> 2\n",
    "    lesser_of_two_evens(2,5) --> 5"
   ]
  },
  {
   "cell_type": "code",
   "execution_count": 6,
   "metadata": {},
   "outputs": [
    {
     "name": "stdout",
     "output_type": "stream",
     "text": [
      "enter a num0\n",
      "enter a num2\n",
      "0\n"
     ]
    }
   ],
   "source": [
    "def odd_even(x,y):\n",
    "    if x%2==0 and y%2==0:\n",
    "        if x<y:\n",
    "            print(x)\n",
    "        elif y<x:\n",
    "            print(y)\n",
    "        else:\n",
    "            print(x,'=',y,'and even')\n",
    "    else:\n",
    "        if x>y:\n",
    "            print(x)\n",
    "        elif y>x:\n",
    "            print(y)\n",
    "        else:\n",
    "            print(x,'=',y,'and odd')\n",
    "odd_even(int(input('enter a num')),int(input('enter a num')))\n"
   ]
  },
  {
   "cell_type": "code",
   "execution_count": null,
   "metadata": {},
   "outputs": [],
   "source": []
  },
  {
   "cell_type": "code",
   "execution_count": null,
   "metadata": {},
   "outputs": [],
   "source": []
  }
 ],
 "metadata": {
  "kernelspec": {
   "display_name": "Python 3 (ipykernel)",
   "language": "python",
   "name": "python3"
  },
  "language_info": {
   "codemirror_mode": {
    "name": "ipython",
    "version": 3
   },
   "file_extension": ".py",
   "mimetype": "text/x-python",
   "name": "python",
   "nbconvert_exporter": "python",
   "pygments_lexer": "ipython3",
   "version": "3.9.12"
  }
 },
 "nbformat": 4,
 "nbformat_minor": 2
}
